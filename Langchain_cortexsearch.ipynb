{
 "cells": [
  {
   "cell_type": "markdown",
   "metadata": {},
   "source": [
    "## This is Project to test Cortex Search Intergration with Langchain "
   ]
  },
  {
   "cell_type": "markdown",
   "metadata": {},
   "source": [
    "- First Step - Snowflake Account: Sign up for a Snowflake account and gather the necessary credentials (account ID, username, and password).\n",
    "\n",
    "- https://pypi.org/project/langchain-snowflake/\n",
    "\n",
    "- Create a Conda Env conda \n",
    "\n",
    "conda create -n snowflake-lanchain python=3.10\n",
    "conda activate snowflake-lanchain \n",
    "\n",
    "- touch requirements.txt\n",
    "\n",
    "- pip install -r requirements.txt"
   ]
  },
  {
   "cell_type": "code",
   "execution_count": 8,
   "metadata": {
    "tags": []
   },
   "outputs": [],
   "source": [
    "import os, getpass\n",
    "from dotenv import load_dotenv,find_dotenv\n",
    "from snowflake.core import Root\n",
    "load_dotenv()\n",
    "from langchain_core.messages import HumanMessage, SystemMessage\n",
    "from langchain_snowflake import CortexSearchRetriever\n",
    "from langchain_community.chat_models import ChatSnowflakeCortex"
   ]
  },
  {
   "cell_type": "code",
   "execution_count": null,
   "metadata": {
    "tags": []
   },
   "outputs": [],
   "source": [
    "# os.environ.clear()\n",
    "#print(os.environ)"
   ]
  },
  {
   "cell_type": "code",
   "execution_count": 9,
   "metadata": {
    "tags": []
   },
   "outputs": [],
   "source": [
    "# # ### Setting up the env varioable for open API keys \n",
    "os.environ['OPENAI_API_KEY']=os.getenv('OPENAI_API_KEY')\n",
    "os.environ['LANGCHAIN_API_KEY']=os.getenv('LANGCHAIN_API_KEY')\n",
    "os.environ[\"LANGCHAIN_TRACING_V2\"] = \"true\"\n"
   ]
  },
  {
   "cell_type": "code",
   "execution_count": 10,
   "metadata": {
    "tags": []
   },
   "outputs": [],
   "source": [
    "#### Cortex Retriever on langchain \n",
    "search = CortexSearchRetriever(\n",
    "        search_service=\"transcript_search_service\",\n",
    "        search_column=\"transcript_text\",\n",
    "        columns=[\"transcript_text\", \"region\"],\n",
    "        filter={\"@eq\": {\"region\": \"North America\"}},\n",
    "        limit=2\n",
    ")"
   ]
  },
  {
   "cell_type": "code",
   "execution_count": 11,
   "metadata": {
    "tags": []
   },
   "outputs": [
    {
     "name": "stdout",
     "output_type": "stream",
     "text": [
      "page_content='I received a faulty router, can I get it replaced?' metadata={'region': 'North America'}\n",
      "page_content='My internet has been down since yesterday, can you help?' metadata={'region': 'North America'}\n"
     ]
    }
   ],
   "source": [
    "query=\"faulty\"\n",
    "result = search.invoke(query)\n",
    "for doc in result:\n",
    "    print(doc)"
   ]
  },
  {
   "cell_type": "markdown",
   "metadata": {},
   "source": [
    "#### Changing the Data base "
   ]
  },
  {
   "cell_type": "code",
   "execution_count": null,
   "metadata": {
    "tags": []
   },
   "outputs": [],
   "source": [
    "#os.environ['SNOWFLAKE_DATABASE'] = 'LANGCHAIN_CORTEX'"
   ]
  },
  {
   "cell_type": "code",
   "execution_count": null,
   "metadata": {
    "tags": []
   },
   "outputs": [],
   "source": [
    "#print(os.environ)"
   ]
  },
  {
   "cell_type": "code",
   "execution_count": 12,
   "metadata": {
    "tags": []
   },
   "outputs": [],
   "source": [
    "from langchain_snowflake import CortexSearchRetriever\n",
    "search_airbnb = CortexSearchRetriever(\n",
    "        search_service=\"airbnb_svc\",\n",
    "        search_column=\"LISTING_TEXT\",\n",
    "        columns=[\"ROOM_TYPE\", \"AMENITIES\"],\n",
    "        filter={\"@eq\": {\"ROOM_TYPE\": \"Entire home/apt\"}},\n",
    "        limit=2\n",
    ")"
   ]
  },
  {
   "cell_type": "code",
   "execution_count": 13,
   "metadata": {
    "tags": []
   },
   "outputs": [
    {
     "name": "stdout",
     "output_type": "stream",
     "text": [
      "page_content='Summary\n",
      "\n",
      "Mon logement est bien placé. Des petits restaurants( pizzeria, McDonalds, créole) pullulent aux alentours. Je suis à 5 minutes de marche de l'épicerie. L'appartement est à l'intersection des quartiers Villeray/Saint-Michel/Rosemont... à l'Ouest du Montréal Est et au Sud du Montréal-Nord. L'arrêt du bus 139 est juste en face de la porte de mon immeuble. En conclusion, c'est un endroit stratégique pour avoir un accès facile à la ville de Montréal.Bienvenue! Vous ne vous ennuierez pas.\n",
      "\n",
      "\n",
      "Description\n",
      "\n",
      "Mon logement est bien placé. Des petits restaurants( pizzeria, McDonalds, créole) pullulent aux alentours. Je suis à 5 minutes de marche de l'épicerie. L'appartement est à l'intersection des quartiers Villeray/Saint-Michel/Rosemont... à l'Ouest du Montréal Est et au Sud du Montréal-Nord. L'arrêt du bus 139 est juste en face de la porte de mon immeuble. En conclusion, c'est un endroit stratégique pour avoir un accès facile à la ville de Montréal.Bienvenue! Vous ne vous ennuierez pas. Parking gratuit sur place. 1 Chambre, 1 salle de bain, 1 salon, 1 cuisine. Centre de la Nature, Biôdome, Stade Olympique sont dans mon quartier. Arrêt de bus juste en face de mon immeuble.\n",
      "\n",
      "\n",
      "Space\n",
      "\n",
      "Parking gratuit sur place.' metadata={'ROOM_TYPE': 'Entire home/apt', 'AMENITIES': '[\\n  \"TV\",\\n  \"Wifi\",\\n  \"Kitchen\",\\n  \"Free parking on premises\",\\n  \"Heating\",\\n  \"Washer\",\\n  \"Dryer\",\\n  \"Smoke detector\",\\n  \"Essentials\",\\n  \"Shampoo\",\\n  \"Hangers\",\\n  \"Hair dryer\",\\n  \"Iron\",\\n  \"Private entrance\"\\n]'}\n",
      "page_content='Summary\n",
      "\n",
      "New Decoration 3-bedrooms apartment with cozy kitchen and 2-bathrooms in the very center of HK, you can experience the spirit and convenience that life in HK. It comfortably fit 4-8 people and 5 mins to Wanchai MTR.\n",
      "\n",
      "\n",
      "Description\n",
      "\n",
      "New Decoration 3-bedrooms apartment with cozy kitchen and 2-bathrooms in the very center of HK, you can experience the spirit and convenience that life in HK. It comfortably fit 4-8 people and 5 mins to Wanchai MTR. We are on Hennessy Road we're just 5 minute walk from the closest subway stop (Wanchai MTR exit A4 ) and 1 minute from the airport bus stop literally at our doorstep. Convenience stores, Bars, Supermarket, grocery stores, pharmacy, massage salons, fruit shops, shopping mall, post office , tram/flight ticket agencies, cafe, bakeries, bus stops & tram stop....Easy access to everything you may need in the neighborhood.  The wide variety of restaurants nearby: Chinese, Japanese, Korean, Indian, Thai, western food and street food for late night hunger. Needless to say: you would also be well served by McDonalds, Pizza Huts, Subways, Deli-france, Marks & Spencers and other fast food chains. We provide towels, linens, hair dryers, shampoo, shower gel, tooth paste.  The size of the\n",
      "\n",
      "\n",
      "Space\n",
      "\n",
      "We are on Hennessy Road we're just 5 minute walk from the closest subway stop (Wanchai MTR exit A4 ) and 1 minute from the airport bus stop literally at our doorstep. Convenience stores, Bars, Supermarket, grocery stores, pharmacy, massage salons, fruit shops, shopping mall, post office , tram/flight ticket agencies, cafe, bakeries, bus stops & tram stop....Easy access to everything you may need in the neighborhood.  The wide variety of restaurants nearby: Chinese, Japanese, Korean, Indian, Thai, western food and street food for late night hunger. Needless to say: you would also be well served by McDonalds, Pizza Huts, Subways, Deli-france, Marks & Spencers and other fast food chains. We provide towels, linens, hair dryers, shampoo, shower gel, tooth paste.  The size of the beds  4.5' x 6' double bed 4'x6'        double bed 6x 6\"  king size sofa double bed  3\" x 6\" bunk bed (=2 signal beds) 4 beds in total This apartment comfortably fits for 8 people. ALL the Clean Bed Sheets / Towel a' metadata={'ROOM_TYPE': 'Entire home/apt', 'AMENITIES': '[\\n  \"TV\",\\n  \"Wifi\",\\n  \"Air conditioning\",\\n  \"Kitchen\",\\n  \"Elevator\",\\n  \"Hot tub\",\\n  \"Family/kid friendly\",\\n  \"Washer\",\\n  \"Essentials\",\\n  \"Shampoo\"\\n]'}\n"
     ]
    }
   ],
   "source": [
    "query=\" pizza store  \"\n",
    "result = search_airbnb.invoke(query)\n",
    "for doc in result:\n",
    "    print(doc)"
   ]
  },
  {
   "cell_type": "code",
   "execution_count": null,
   "metadata": {},
   "outputs": [],
   "source": []
  }
 ],
 "metadata": {
  "kernelspec": {
   "display_name": "snowflake-lanchain",
   "language": "python",
   "name": "snowflake-lanchain"
  },
  "language_info": {
   "codemirror_mode": {
    "name": "ipython",
    "version": 3
   },
   "file_extension": ".py",
   "mimetype": "text/x-python",
   "name": "python",
   "nbconvert_exporter": "python",
   "pygments_lexer": "ipython3",
   "version": "3.10.15"
  }
 },
 "nbformat": 4,
 "nbformat_minor": 4
}
